{
  "nbformat": 4,
  "nbformat_minor": 0,
  "metadata": {
    "colab": {
      "provenance": [],
      "authorship_tag": "ABX9TyMtwQ0b2zGUGdCWmBq+Jw71",
      "include_colab_link": true
    },
    "kernelspec": {
      "name": "python3",
      "display_name": "Python 3"
    },
    "language_info": {
      "name": "python"
    }
  },
  "cells": [
    {
      "cell_type": "markdown",
      "metadata": {
        "id": "view-in-github",
        "colab_type": "text"
      },
      "source": [
        "<a href=\"https://colab.research.google.com/github/holera2008/21hw_mod/blob/main/hw21_mod.ipynb\" target=\"_parent\"><img src=\"https://colab.research.google.com/assets/colab-badge.svg\" alt=\"Open In Colab\"/></a>"
      ]
    },
    {
      "cell_type": "code",
      "execution_count": null,
      "metadata": {
        "id": "xgxQjW6xjqJE"
      },
      "outputs": [],
      "source": [
        "def better_func(func):\n",
        "  def inner(discount):\n",
        "    print(f'with a {discount*100}% discount, you get a price of:')\n",
        "    result = func(discount)\n",
        "    print(f'{result}UAH')\n",
        "    return result\n",
        "  return inner\n",
        "\n",
        "@better_func\n",
        "def discount_price(discount):\n",
        "  def discounter(price):\n",
        "    result = price - price*discount\n",
        "    return result\n",
        "  return discounter\n",
        "\n",
        "\n",
        "if __name__ == '__main__':\n",
        "    cost_15 = discount_price(0.15)\n",
        "    cost_10 = discount_price(0.10)\n",
        "    cost_05 = discount_price(0.05)\n",
        "\n",
        "    price = 100\n",
        "    print(cost_15(price))\n",
        "    print(cost_10(price))\n",
        "    print(cost_05(price))"
      ]
    }
  ]
}